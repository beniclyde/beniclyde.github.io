{
 "cells": [
  {
   "cell_type": "code",
   "execution_count": 1,
   "metadata": {
    "collapsed": true
   },
   "outputs": [],
   "source": [
    "import numpy as np\n",
    "import random\n",
    "import DNA\n",
    "import mutation\n",
    "from DNA import *"
   ]
  },
  {
   "cell_type": "code",
   "execution_count": 2,
   "metadata": {},
   "outputs": [
    {
     "name": "stdout",
     "output_type": "stream",
     "text": [
      "Help on module mutation:\n",
      "\n",
      "NAME\n",
      "    mutation - This module is for various mutations of sequence data.\n",
      "\n",
      "DESCRIPTION\n",
      "    Functions include random RNA generator, mutation programs that modify the RNA strings\n",
      "    and mutations finder programs that attempt to identify the mutation.\n",
      "    \n",
      "    Copyright Benjamin Clyde, 2017\n",
      "\n",
      "FUNCTIONS\n",
      "    deletion(rna)\n",
      "        Function to take an RNA string and randomly choose an index for the string and then\n",
      "        randomly delete 1-9 nucleotides sequentially and return the new RNA string\n",
      "    \n",
      "    find_codon_diff(protein, mutated_protein)\n",
      "        Function to find the effect the SNP had on the protein.\n",
      "        First compares the length of the proteins to see if the SNP caused a premature\n",
      "        stop codon, otherwise, returns the new codon.\n",
      "    \n",
      "    find_deletion(rna, deleted_rna)\n",
      "        Function to find the deleted sequence from an RNA seq\n",
      "        First takes the difference in length between the two sequences to find the amount\n",
      "        of nucleotides that were inserted, then compare the sequences until it can determine\n",
      "        where the sequences differed.\n",
      "    \n",
      "    find_insertion(rna, inserted_rna)\n",
      "        Function to find the inserted sequence into an RNA seq\n",
      "        First takes the difference in length between the two sequences to find the amount\n",
      "        of nucleotides that were inserted, then compare the sequences until it can determine\n",
      "        where the sequences differed.\n",
      "    \n",
      "    find_mutation(rna, mutated_rna)\n",
      "        Function to take an RNA string and the function mutated string to find the mutation\n",
      "        regardless of type. Limited to finding one mutation at a time, will look into\n",
      "        multiple mutations in a later version\n",
      "    \n",
      "    find_snp(rna, mutated_rna)\n",
      "        Function compares the old sequence to the mutated sequence to find the SNP\n",
      "        Returns the position, the previous nucleotide and the new nucleotide\n",
      "    \n",
      "    insertion(rna)\n",
      "        Function to take an RNA string and randomly choose an index for the string and then\n",
      "        randomly add 1-9 nucleotides sequentially and return the new RNA string\n",
      "    \n",
      "    mutator(rna)\n",
      "        Function to take an RNA string and randomly apply one of the mutation functions.\n",
      "        Probably should adjust the random to closely match the frequency the mutations\n",
      "        occur in nature, but couldn't find good numbers.\n",
      "    \n",
      "    random_rna(length)\n",
      "        Function to take a given length and return a random RNA sequence\n",
      "        Function ensures the RNA sequence starts with a start codon and ends with a stop codon\n",
      "    \n",
      "    snp(sequence)\n",
      "        Function takes a sequence string and introduces a single nucleotide polymorphism (SNP)\n",
      "        Randomly finds an index in the string and replaces the value at the index with a new\n",
      "        letter from the given alphabet. If the value is the same as the previous value, the\n",
      "        function calls itself again to make sure the sequence changes.\n",
      "\n",
      "DATA\n",
      "    rna_codon_list_no_stop = ['GCG', 'UCG', 'GCC', 'CAA', 'GAU', 'AGA', 'G...\n",
      "    rna_codon_table = {'AAA': 'K', 'AAC': 'N', 'AAG': 'K', 'AAU': 'N', 'AC...\n",
      "\n",
      "FILE\n",
      "    /home/jovyan/work/beniclyde_6018_2017/DNA Manipulation/mutation.py\n",
      "\n",
      "\n"
     ]
    }
   ],
   "source": [
    "help(mutation)"
   ]
  },
  {
   "cell_type": "code",
   "execution_count": 3,
   "metadata": {
    "collapsed": true
   },
   "outputs": [],
   "source": [
    "rna1 = mutation.random_rna(99)\n",
    "rna2 = mutation.random_rna(99)\n"
   ]
  },
  {
   "cell_type": "code",
   "execution_count": 4,
   "metadata": {},
   "outputs": [
    {
     "data": {
      "text/plain": [
       "'AUGUACACUAUCACUCUCGCCCCCACCACGUGGGGCAGCUUACAAACCAAUGGGUCAGAGUGGCACACCUCAGGCGAGCACGUCUCGAUGAACAGGUGA'"
      ]
     },
     "execution_count": 4,
     "metadata": {},
     "output_type": "execute_result"
    }
   ],
   "source": [
    "rna1"
   ]
  },
  {
   "cell_type": "code",
   "execution_count": 5,
   "metadata": {
    "scrolled": true
   },
   "outputs": [
    {
     "data": {
      "text/plain": [
       "'AUGUGGAUCCGCUUUGGACUAGUCGAUAGGAACCCUAGUGCCUUCCAUCUGAGAUUGAUAUGCGGGGCGAUAACCCAACGUAGCUUGGCUAGUCUCUGA'"
      ]
     },
     "execution_count": 5,
     "metadata": {},
     "output_type": "execute_result"
    }
   ],
   "source": [
    "rna2"
   ]
  },
  {
   "cell_type": "code",
   "execution_count": 6,
   "metadata": {
    "collapsed": true
   },
   "outputs": [],
   "source": [
    "def dotplot_list_of_lists(dna_x, dna_y):\n",
    "    dotplot_matrix = [['0' for x in dna_x] for y in dna_y]\n",
    "    for x_index, x_value in enumerate(dna_x):\n",
    "        for y_index, y_value in enumerate(dna_y):\n",
    "            if x_value == y_value:\n",
    "                dotplot_matrix[y_index][x_index] = '1'\n",
    "    return dotplot_matrix\n",
    "\n",
    "dna_x = 'TAATGCCTGAAT'\n",
    "dna_y = 'CTCTATGCC'\n",
    "\n",
    "M = dotplot_list_of_lists(dna_x, dna_y)"
   ]
  },
  {
   "cell_type": "code",
   "execution_count": 7,
   "metadata": {},
   "outputs": [
    {
     "name": "stdout",
     "output_type": "stream",
     "text": [
      "[[1 0 0 ..., 0 1 1]\n",
      " [0 1 1 ..., 1 0 0]\n",
      " [0 1 1 ..., 1 0 0]\n",
      " ..., \n",
      " [0 1 1 ..., 1 0 0]\n",
      " [1 0 0 ..., 0 1 1]\n",
      " [1 0 0 ..., 0 1 1]]\n"
     ]
    },
    {
     "data": {
      "image/png": "[encoded data removed]",
      "text/plain": [
       "<matplotlib.figure.Figure at 0x7f45ee6a2c50>"
      ]
     },
     "metadata": {},
     "output_type": "display_data"
    },
    {
     "name": "stdout",
     "output_type": "stream",
     "text": [
      "[[ 1.  0.  0. ...,  0.  0.  0.]\n",
      " [ 0.  1.  0. ...,  0.  0.  0.]\n",
      " [ 0.  0.  1. ...,  0.  0.  0.]\n",
      " ..., \n",
      " [ 0.  0.  0. ...,  1.  0.  0.]\n",
      " [ 0.  0.  0. ...,  0.  1.  0.]\n",
      " [ 0.  0.  0. ...,  0.  0.  1.]]\n"
     ]
    }
   ],
   "source": [
    "def dotplot(dna_x, dna_y):\n",
    "    dotplot_matrix = np.zeros((len(dna_y), len(dna_x)), np.int)\n",
    "    for x_index, x_value in enumerate(dna_x):\n",
    "        for y_index, y_value in enumerate(dna_y):\n",
    "            if x_value == y_value:\n",
    "                dotplot_matrix[y_index,x_index] = 1\n",
    "    return dotplot_matrix\n",
    "\n",
    "dna_x = 'ATTGCAGCTTAAGGAATCGTGCAGATTAAAGGCACCACGAATTAAGACCAGGGACATAA'\n",
    "dna_y = 'ATTGCAGCGGAAGGAATACTGCAGGTTAAAGTCACCAGGAATTCAGACCAGTTTCATAA'\n",
    "\n",
    "print(dotplot(dna_x, dna_y))\n",
    "\n",
    "\n",
    "#dna_y = 'ATTGCAGCCTAAGGAATCGTGCAGATTAAACTCACCACGAATTAAGACCAGGGACATAT'\n",
    "p = dotplot(dna_x, dna_y)\n",
    "from matplotlib.pyplot import plot, show\n",
    "p = np.eye(60) # test\n",
    "x = [i for i in range(p.shape[1]) for j in range(p.shape[0]) if p[i,j] == 1]\n",
    "y = [j for i in range(p.shape[1]) for j in range(p.shape[0]) if p[i,j] == 1]\n",
    "plot(x, y, 'ro')\n",
    "show()\n",
    "\n",
    "# Test\n",
    "M = dotplot_list_of_lists(dna_x, dna_y)\n",
    "#for i in range(p.shape[0]):\n",
    "    #for j in range(p.shape[1]):\n",
    "        #assert p[i,j] == int(M[i][j]), '%s vs %s' % (p[i,j], int(M[i][j]))\n",
    "print(p)"
   ]
  },
  {
   "cell_type": "code",
   "execution_count": 8,
   "metadata": {},
   "outputs": [
    {
     "name": "stdout",
     "output_type": "stream",
     "text": [
      "Help on built-in function print in module builtins:\n",
      "\n",
      "print(...)\n",
      "    print(value, ..., sep=' ', end='\\n', file=sys.stdout, flush=False)\n",
      "    \n",
      "    Prints the values to a stream, or to sys.stdout by default.\n",
      "    Optional keyword arguments:\n",
      "    file:  a file-like object (stream); defaults to the current sys.stdout.\n",
      "    sep:   string inserted between values, default a space.\n",
      "    end:   string appended after the last value, default a newline.\n",
      "    flush: whether to forcibly flush the stream.\n",
      "\n"
     ]
    }
   ],
   "source": [
    "help(print)"
   ]
  },
  {
   "cell_type": "code",
   "execution_count": 9,
   "metadata": {},
   "outputs": [
    {
     "name": "stdout",
     "output_type": "stream",
     "text": [
      "Help on function eye in module numpy.lib.twodim_base:\n",
      "\n",
      "eye(N, M=None, k=0, dtype=<class 'float'>)\n",
      "    Return a 2-D array with ones on the diagonal and zeros elsewhere.\n",
      "    \n",
      "    Parameters\n",
      "    ----------\n",
      "    N : int\n",
      "      Number of rows in the output.\n",
      "    M : int, optional\n",
      "      Number of columns in the output. If None, defaults to `N`.\n",
      "    k : int, optional\n",
      "      Index of the diagonal: 0 (the default) refers to the main diagonal,\n",
      "      a positive value refers to an upper diagonal, and a negative value\n",
      "      to a lower diagonal.\n",
      "    dtype : data-type, optional\n",
      "      Data-type of the returned array.\n",
      "    \n",
      "    Returns\n",
      "    -------\n",
      "    I : ndarray of shape (N,M)\n",
      "      An array where all elements are equal to zero, except for the `k`-th\n",
      "      diagonal, whose values are equal to one.\n",
      "    \n",
      "    See Also\n",
      "    --------\n",
      "    identity : (almost) equivalent function\n",
      "    diag : diagonal 2-D array from a 1-D array specified by the user.\n",
      "    \n",
      "    Examples\n",
      "    --------\n",
      "    >>> np.eye(2, dtype=int)\n",
      "    array([[1, 0],\n",
      "           [0, 1]])\n",
      "    >>> np.eye(3, k=1)\n",
      "    array([[ 0.,  1.,  0.],\n",
      "           [ 0.,  0.,  1.],\n",
      "           [ 0.,  0.,  0.]])\n",
      "\n"
     ]
    }
   ],
   "source": [
    "help(np.eye)"
   ]
  },
  {
   "cell_type": "code",
   "execution_count": 46,
   "metadata": {},
   "outputs": [],
   "source": [
    "class DNA(str):\n",
    "    \"\"\"\n",
    "    Class for representing DNA sequences as strings\n",
    "    \"\"\"\n",
    "    basecomplement = {'A': 'T', 'C': 'G', 'T': 'A', 'G': 'C', 'U': 'A'}\n",
    "    dna_codon_table = {\"TTT\":\"F\", \"TTC\":\"F\", \"TTA\":\"L\", \"TTG\":\"L\",\n",
    "                       \"TCT\":\"S\", \"TCC\":\"S\", \"TCA\":\"S\", \"TCG\":\"S\",\n",
    "                       \"TAT\":\"Y\", \"TAC\":\"Y\", \"TAA\":\"STOP\", \"TAG\":\"STOP\",\n",
    "                       \"TGT\":\"C\", \"TGC\":\"C\", \"TGA\":\"STOP\", \"TGG\":\"W\",\n",
    "                       \"CTT\":\"L\", \"CTC\":\"L\", \"CTA\":\"L\", \"CTG\":\"L\",\n",
    "                       \"CCT\":\"P\", \"CCC\":\"P\", \"CCA\":\"P\", \"CCG\":\"P\",\n",
    "                       \"CAT\":\"H\", \"CAC\":\"H\", \"CAA\":\"Q\", \"CAG\":\"Q\",\n",
    "                       \"CGT\":\"R\", \"CGC\":\"R\", \"CGA\":\"R\", \"CGG\":\"R\",\n",
    "                       \"ATT\":\"I\", \"ATC\":\"I\", \"ATA\":\"I\", \"ATG\":\"M\",\n",
    "                       \"ACT\":\"T\", \"ACC\":\"T\", \"ACA\":\"T\", \"ACG\":\"T\",\n",
    "                       \"AAT\":\"N\", \"AAC\":\"N\", \"AAA\":\"K\", \"AAG\":\"K\",\n",
    "                       \"AGT\":\"S\", \"AGC\":\"S\", \"AGA\":\"R\", \"AGG\":\"R\",\n",
    "                       \"GTT\":\"V\", \"GTC\":\"V\", \"GTA\":\"V\", \"GTG\":\"V\",\n",
    "                       \"GCT\":\"A\", \"GCC\":\"A\", \"GCA\":\"A\", \"GCG\":\"A\",\n",
    "                       \"GAT\":\"D\", \"GAC\":\"D\", \"GAA\":\"E\", \"GAG\":\"E\",\n",
    "                       \"GGT\":\"G\", \"GGC\":\"G\", \"GGA\":\"G\", \"GGG\":\"G\"}\n",
    "    def __init__(self, seq):\n",
    "        \"\"\"Create DNA object to string seq.\"\"\"\n",
    "        if set(seq.upper()).issubset({'A','T','C','G','N'}):\n",
    "            self.seq = seq.upper()\n",
    "        else:\n",
    "            raise ValueError(\"DNA has illegal character\")\n",
    "    \n",
    "    def transcribe(self):\n",
    "        \"\"\"\n",
    "        Transcribes a DNA sequence by replacing thymine (T) with uracil (U)\n",
    "        \"\"\"\n",
    "        return self.seq.replace('T', 'U')\n",
    "    \n",
    "    def complement(self):\n",
    "        \"\"\"\n",
    "        Finds the complement of the sequence by list comprehension using dictionary of complement values\n",
    "        \"\"\"\n",
    "        basecomplement = {'A': 'T', 'C': 'G', 'T': 'A', 'G': 'C', 'U': 'A', 'N': 'N'}\n",
    "        bases = list(self)\n",
    "        comp = [basecomplement[base] for base in bases]\n",
    "        return ''.join(comp)\n",
    "\n",
    "    def reverse(self):\n",
    "        \"\"\"\n",
    "        Reverses a sequence, used to get the 5' orientation of the complement strand of a sequence\n",
    "        \"\"\"\n",
    "        return self[::-1]\n",
    "\n",
    "    def gc_content(self):\n",
    "        \"\"\"\n",
    "        Calculates the GC content of a sequence, which is important to know in molecular biology\n",
    "        \"\"\"\n",
    "        gc_percent = (self.count('G') + self.count('C')) / len(self)\n",
    "        return gc_percent * 100\n",
    "\n",
    "    def codons(self, rf=0):\n",
    "        \"\"\"\n",
    "        Finds the list of codons in a sequence in a given reading frame.\n",
    "\n",
    "        In a sequence there are 6 possible reading frames, 3 on the forward strand, 3 on the complement.\n",
    "        Arguments: sequence for splitting in to codons\n",
    "        rf: reading frame. 0 = 1st forward frame; 1 = 2nd forward frame; 2 = 3rd forward frame\n",
    "            3 = 1st complement frame; 4 = 2nd complement frame; 5 = 3rd complement frame\n",
    "        Returns: list of codons in sequence for specified reading frame\n",
    "        \"\"\"\n",
    "        if rf == 0:\n",
    "            stoppoint = len(self) - (len(self) % 3)\n",
    "            return [self[i:i+3] for i in range(rf, stoppoint, 3)]\n",
    "        if rf == 1:\n",
    "            stoppoint = len(sequence[rf:]) - (len(self[rf:]) % 3)\n",
    "            return [self[i:i+3] for i in range(rf, stoppoint, 3)]\n",
    "        if rf == 2:\n",
    "            stoppoint = len(self[2:]) - (len(self[2:]) % 3)\n",
    "            return [self[i:i+3] for i in range(rf, stoppoint, 3)]\n",
    "        if rf == 3 or rf == 4 or rf == 5:\n",
    "            new_s = complement(self)\n",
    "            stoppoint = len(new_s[rf-3:]) - (len(new_s[rf-3:]) % 3)\n",
    "            return [new_s[i:i+3] for i in range(rf-3, stoppoint, 3)]\n",
    "        else:\n",
    "            raise ValueError(\"Reading frame rf must be a value from 0-5\")\n",
    "    \n",
    "    def translate(self):\n",
    "        \"\"\"\n",
    "        Translates an mRNA sequence into a protein sequence using the mRNA codon look up dictionary\n",
    "        \"\"\"\n",
    "        protein = \"\"\n",
    "        for i in range(0, len(self) - (len(self) % 3), 3):\n",
    "            symbol = dna_codon_table[self[i:i+3]]\n",
    "            if symbol == \"STOP\":\n",
    "                break\n",
    "            else:\n",
    "                protein += symbol\n",
    "        return protein\n",
    "    \n",
    "    def six_frames(self):\n",
    "        \"\"\"\n",
    "        Translate sequence into protein in all 6 reading frames,\n",
    "        prints the mrna with complement and the translated 6 frames aligned\n",
    "        with the nucleotides\n",
    "        \"\"\"\n",
    "        for i in reversed(range(3)):\n",
    "            protein = \" \"*i\n",
    "            for j in self.codons(self, rf=i):\n",
    "                if not dna_codon_table[j] == \"STOP\":\n",
    "                    protein += ((\" \") + dna_codon_table[j] + \" \")\n",
    "                else:\n",
    "                    protein += ' * '\n",
    "            print(protein)\n",
    "        print(self)\n",
    "        print(complement(self))\n",
    "        for i in range(3, 6):\n",
    "            protein = \" \"*(i-3)\n",
    "            for j in self.codons(self, rf=i):\n",
    "                if not dna_codon_table[j] == \"STOP\":\n",
    "                    protein += ((\" \") + dna_codon_table[j] + \" \")\n",
    "                else:\n",
    "                    protein += ' * '\n",
    "            print(protein)\n",
    "    \n",
    "    def __str__(self):\n",
    "        return \"DNA = {} \\n RNA = {} \\n Protein = {}\".format(self.seq, self.transcribe(), self.translate())\n"
   ]
  },
  {
   "cell_type": "code",
   "execution_count": 25,
   "metadata": {
    "collapsed": true
   },
   "outputs": [],
   "source": [
    "dna_codon_table = {\"TTT\":\"F\", \"TTC\":\"F\", \"TTA\":\"L\", \"TTG\":\"L\",\n",
    "                   \"TCT\":\"S\", \"TCC\":\"S\", \"TCA\":\"S\", \"TCG\":\"S\",\n",
    "                   \"TAT\":\"Y\", \"TAC\":\"Y\", \"TAA\":\"STOP\", \"TAG\":\"STOP\",\n",
    "                   \"TGT\":\"C\", \"TGC\":\"C\", \"TGA\":\"STOP\", \"TGG\":\"W\",\n",
    "                   \"CTT\":\"L\", \"CTC\":\"L\", \"CTA\":\"L\", \"CTG\":\"L\",\n",
    "                   \"CCT\":\"P\", \"CCC\":\"P\", \"CCA\":\"P\", \"CCG\":\"P\",\n",
    "                   \"CAT\":\"H\", \"CAC\":\"H\", \"CAA\":\"Q\", \"CAG\":\"Q\",\n",
    "                   \"CGT\":\"R\", \"CGC\":\"R\", \"CGA\":\"R\", \"CGG\":\"R\",\n",
    "                   \"ATT\":\"I\", \"ATC\":\"I\", \"ATA\":\"I\", \"ATG\":\"M\",\n",
    "                   \"ACT\":\"T\", \"ACC\":\"T\", \"ACA\":\"T\", \"ACG\":\"T\",\n",
    "                   \"AAT\":\"N\", \"AAC\":\"N\", \"AAA\":\"K\", \"AAG\":\"K\",\n",
    "                   \"AGT\":\"S\", \"AGC\":\"S\", \"AGA\":\"R\", \"AGG\":\"R\",\n",
    "                   \"GTT\":\"V\", \"GTC\":\"V\", \"GTA\":\"V\", \"GTG\":\"V\",\n",
    "                   \"GCT\":\"A\", \"GCC\":\"A\", \"GCA\":\"A\", \"GCG\":\"A\",\n",
    "                   \"GAT\":\"D\", \"GAC\":\"D\", \"GAA\":\"E\", \"GAG\":\"E\",\n",
    "                   \"GGT\":\"G\", \"GGC\":\"G\", \"GGA\":\"G\", \"GGG\":\"G\"}"
   ]
  },
  {
   "cell_type": "code",
   "execution_count": 26,
   "metadata": {},
   "outputs": [],
   "source": [
    "dna1 = rna1.replace(\"U\", \"T\")\n",
    "dna1 = DNA(dna1)"
   ]
  },
  {
   "cell_type": "code",
   "execution_count": 48,
   "metadata": {},
   "outputs": [
    {
     "name": "stdout",
     "output_type": "stream",
     "text": [
      "ATGTACACTATCACTCTCGCCCCCACCACGTGGGGCAGCTTACAAACCAATGGGTCAGAGTGGCACACCTCAGGCGAGCACGTCTCGATGAACAGGTGA\n"
     ]
    }
   ],
   "source": [
    "print(dna1)"
   ]
  },
  {
   "cell_type": "code",
   "execution_count": 30,
   "metadata": {},
   "outputs": [
    {
     "data": {
      "text/plain": [
       "'AGTGGACAAGTAGCTCTGCACGAGCGGACTCCACACGGTGAGACTGGGTAACCAAACATTCGACGGGGTGCACCACCCCCGCTCTCACTATCACATGTA'"
      ]
     },
     "execution_count": 30,
     "metadata": {},
     "output_type": "execute_result"
    }
   ],
   "source": [
    "dna1.reverse()"
   ]
  },
  {
   "cell_type": "code",
   "execution_count": 31,
   "metadata": {},
   "outputs": [
    {
     "ename": "TypeError",
     "evalue": "codons() got multiple values for argument 'rf'",
     "output_type": "error",
     "traceback": [
      "\u001b[0;31m---------------------------------------------------------------------------\u001b[0m",
      "\u001b[0;31mTypeError\u001b[0m                                 Traceback (most recent call last)",
      "\u001b[0;32m<ipython-input-31-cbc9d5e26344>\u001b[0m in \u001b[0;36m<module>\u001b[0;34m()\u001b[0m\n\u001b[0;32m----> 1\u001b[0;31m \u001b[0mdna1\u001b[0m\u001b[0;34m.\u001b[0m\u001b[0msix_frames\u001b[0m\u001b[0;34m(\u001b[0m\u001b[0;34m)\u001b[0m\u001b[0;34m\u001b[0m\u001b[0m\n\u001b[0m",
      "\u001b[0;32m<ipython-input-24-cf11b3cfbc6d>\u001b[0m in \u001b[0;36msix_frames\u001b[0;34m(self)\u001b[0m\n\u001b[1;32m    102\u001b[0m         \u001b[0;32mfor\u001b[0m \u001b[0mi\u001b[0m \u001b[0;32min\u001b[0m \u001b[0mreversed\u001b[0m\u001b[0;34m(\u001b[0m\u001b[0mrange\u001b[0m\u001b[0;34m(\u001b[0m\u001b[0;36m3\u001b[0m\u001b[0;34m)\u001b[0m\u001b[0;34m)\u001b[0m\u001b[0;34m:\u001b[0m\u001b[0;34m\u001b[0m\u001b[0m\n\u001b[1;32m    103\u001b[0m             \u001b[0mprotein\u001b[0m \u001b[0;34m=\u001b[0m \u001b[0;34m\" \"\u001b[0m\u001b[0;34m*\u001b[0m\u001b[0mi\u001b[0m\u001b[0;34m\u001b[0m\u001b[0m\n\u001b[0;32m--> 104\u001b[0;31m             \u001b[0;32mfor\u001b[0m \u001b[0mj\u001b[0m \u001b[0;32min\u001b[0m \u001b[0mself\u001b[0m\u001b[0;34m.\u001b[0m\u001b[0mcodons\u001b[0m\u001b[0;34m(\u001b[0m\u001b[0mself\u001b[0m\u001b[0;34m,\u001b[0m \u001b[0mrf\u001b[0m\u001b[0;34m=\u001b[0m\u001b[0mi\u001b[0m\u001b[0;34m)\u001b[0m\u001b[0;34m:\u001b[0m\u001b[0;34m\u001b[0m\u001b[0m\n\u001b[0m\u001b[1;32m    105\u001b[0m                 \u001b[0;32mif\u001b[0m \u001b[0;32mnot\u001b[0m \u001b[0mdna_codon_table\u001b[0m\u001b[0;34m[\u001b[0m\u001b[0mj\u001b[0m\u001b[0;34m]\u001b[0m \u001b[0;34m==\u001b[0m \u001b[0;34m\"STOP\"\u001b[0m\u001b[0;34m:\u001b[0m\u001b[0;34m\u001b[0m\u001b[0m\n\u001b[1;32m    106\u001b[0m                     \u001b[0mprotein\u001b[0m \u001b[0;34m+=\u001b[0m \u001b[0;34m(\u001b[0m\u001b[0;34m(\u001b[0m\u001b[0;34m\" \"\u001b[0m\u001b[0;34m)\u001b[0m \u001b[0;34m+\u001b[0m \u001b[0mdna_codon_table\u001b[0m\u001b[0;34m[\u001b[0m\u001b[0mj\u001b[0m\u001b[0;34m]\u001b[0m \u001b[0;34m+\u001b[0m \u001b[0;34m\" \"\u001b[0m\u001b[0;34m)\u001b[0m\u001b[0;34m\u001b[0m\u001b[0m\n",
      "\u001b[0;31mTypeError\u001b[0m: codons() got multiple values for argument 'rf'"
     ]
    }
   ],
   "source": [
    "dna1.six_frames()"
   ]
  },
  {
   "cell_type": "code",
   "execution_count": 49,
   "metadata": {},
   "outputs": [
    {
     "name": "stdout",
     "output_type": "stream",
     "text": [
      " |AUGUACACUAUCACUCUCGCCCCCACCACGUGGGGCAGCUUACAAACCAAUGGGUCAGAGUGGCACACCUCAGGCGAGCACGUCUCGAUGAACAGGUGA\n",
      "-----------------------------------------------------------------------------------------------------\n",
      "A|•   • •  •  •           •  •        •    • •••  ••      • •     • •    •    •  •       •  •• •    •\n",
      "U| • •    • •   • •             •        ••         •   •     •        •            • •   •       •  \n",
      "G|  •               •          • ••••  •             •••   • • ••         •• • •   •    •  •    •• • \n",
      "U| • •    • •   • •             •        ••         •   •     •        •            • •   •       •  \n",
      "A|•   • •  •  •           •  •        •    • •••  ••      • •     • •    •    •  •       •  •• •    •\n",
      "C|     • •   • • • • ••••• •• •      •  •   •   ••       •       • • •• •   •   • •  • •      •      \n",
      "A|•   • •  •  •           •  •        •    • •••  ••      • •     • •    •    •  •       •  •• •    •\n",
      "C|     • •   • • • • ••••• •• •      •  •   •   ••       •       • • •• •   •   • •  • •      •      \n",
      "U| • •    • •   • •             •        ••         •   •     •        •            • •   •       •  \n",
      "A|•   • •  •  •           •  •        •    • •••  ••      • •     • •    •    •  •       •  •• •    •\n",
      "U| • •    • •   • •             •        ••         •   •     •        •            • •   •       •  \n",
      "C|     • •   • • • • ••••• •• •      •  •   •   ••       •       • • •• •   •   • •  • •      •      \n",
      "A|•   • •  •  •           •  •        •    • •••  ••      • •     • •    •    •  •       •  •• •    •\n",
      "C|     • •   • • • • ••••• •• •      •  •   •   ••       •       • • •• •   •   • •  • •      •      \n",
      "U| • •    • •   • •             •        ••         •   •     •        •            • •   •       •  \n",
      "C|     • •   • • • • ••••• •• •      •  •   •   ••       •       • • •• •   •   • •  • •      •      \n",
      "U| • •    • •   • •             •        ••         •   •     •        •            • •   •       •  \n",
      "C|     • •   • • • • ••••• •• •      •  •   •   ••       •       • • •• •   •   • •  • •      •      \n",
      "G|  •               •          • ••••  •             •••   • • ••         •• • •   •    •  •    •• • \n",
      "C|     • •   • • • • ••••• •• •      •  •   •   ••       •       • • •• •   •   • •  • •      •      \n",
      "C|     • •   • • • • ••••• •• •      •  •   •   ••       •       • • •• •   •   • •  • •      •      \n",
      "C|     • •   • • • • ••••• •• •      •  •   •   ••       •       • • •• •   •   • •  • •      •      \n",
      "C|     • •   • • • • ••••• •• •      •  •   •   ••       •       • • •• •   •   • •  • •      •      \n",
      "C|     • •   • • • • ••••• •• •      •  •   •   ••       •       • • •• •   •   • •  • •      •      \n",
      "A|•   • •  •  •           •  •        •    • •••  ••      • •     • •    •    •  •       •  •• •    •\n",
      "C|     • •   • • • • ••••• •• •      •  •   •   ••       •       • • •• •   •   • •  • •      •      \n",
      "C|     • •   • • • • ••••• •• •      •  •   •   ••       •       • • •• •   •   • •  • •      •      \n",
      "A|•   • •  •  •           •  •        •    • •••  ••      • •     • •    •    •  •       •  •• •    •\n",
      "C|     • •   • • • • ••••• •• •      •  •   •   ••       •       • • •• •   •   • •  • •      •      \n",
      "G|  •               •          • ••••  •             •••   • • ••         •• • •   •    •  •    •• • \n",
      "U| • •    • •   • •             •        ••         •   •     •        •            • •   •       •  \n",
      "G|  •               •          • ••••  •             •••   • • ••         •• • •   •    •  •    •• • \n",
      "G|  •               •          • ••••  •             •••   • • ••         •• • •   •    •  •    •• • \n",
      "G|  •               •          • ••••  •             •••   • • ••         •• • •   •    •  •    •• • \n",
      "G|  •               •          • ••••  •             •••   • • ••         •• • •   •    •  •    •• • \n",
      "C|     • •   • • • • ••••• •• •      •  •   •   ••       •       • • •• •   •   • •  • •      •      \n",
      "A|•   • •  •  •           •  •        •    • •••  ••      • •     • •    •    •  •       •  •• •    •\n",
      "G|  •               •          • ••••  •             •••   • • ••         •• • •   •    •  •    •• • \n",
      "C|     • •   • • • • ••••• •• •      •  •   •   ••       •       • • •• •   •   • •  • •      •      \n",
      "U| • •    • •   • •             •        ••         •   •     •        •            • •   •       •  \n",
      "U| • •    • •   • •             •        ••         •   •     •        •            • •   •       •  \n",
      "A|•   • •  •  •           •  •        •    • •••  ••      • •     • •    •    •  •       •  •• •    •\n",
      "C|     • •   • • • • ••••• •• •      •  •   •   ••       •       • • •• •   •   • •  • •      •      \n",
      "A|•   • •  •  •           •  •        •    • •••  ••      • •     • •    •    •  •       •  •• •    •\n",
      "A|•   • •  •  •           •  •        •    • •••  ••      • •     • •    •    •  •       •  •• •    •\n",
      "A|•   • •  •  •           •  •        •    • •••  ••      • •     • •    •    •  •       •  •• •    •\n",
      "C|     • •   • • • • ••••• •• •      •  •   •   ••       •       • • •• •   •   • •  • •      •      \n",
      "C|     • •   • • • • ••••• •• •      •  •   •   ••       •       • • •• •   •   • •  • •      •      \n",
      "A|•   • •  •  •           •  •        •    • •••  ••      • •     • •    •    •  •       •  •• •    •\n",
      "A|•   • •  •  •           •  •        •    • •••  ••      • •     • •    •    •  •       •  •• •    •\n",
      "U| • •    • •   • •             •        ••         •   •     •        •            • •   •       •  \n",
      "G|  •               •          • ••••  •             •••   • • ••         •• • •   •    •  •    •• • \n",
      "G|  •               •          • ••••  •             •••   • • ••         •• • •   •    •  •    •• • \n",
      "G|  •               •          • ••••  •             •••   • • ••         •• • •   •    •  •    •• • \n",
      "U| • •    • •   • •             •        ••         •   •     •        •            • •   •       •  \n",
      "C|     • •   • • • • ••••• •• •      •  •   •   ••       •       • • •• •   •   • •  • •      •      \n",
      "A|•   • •  •  •           •  •        •    • •••  ••      • •     • •    •    •  •       •  •• •    •\n",
      "G|  •               •          • ••••  •             •••   • • ••         •• • •   •    •  •    •• • \n",
      "A|•   • •  •  •           •  •        •    • •••  ••      • •     • •    •    •  •       •  •• •    •\n",
      "G|  •               •          • ••••  •             •••   • • ••         •• • •   •    •  •    •• • \n",
      "U| • •    • •   • •             •        ••         •   •     •        •            • •   •       •  \n",
      "G|  •               •          • ••••  •             •••   • • ••         •• • •   •    •  •    •• • \n",
      "G|  •               •          • ••••  •             •••   • • ••         •• • •   •    •  •    •• • \n",
      "C|     • •   • • • • ••••• •• •      •  •   •   ••       •       • • •• •   •   • •  • •      •      \n",
      "A|•   • •  •  •           •  •        •    • •••  ••      • •     • •    •    •  •       •  •• •    •\n",
      "C|     • •   • • • • ••••• •• •      •  •   •   ••       •       • • •• •   •   • •  • •      •      \n",
      "A|•   • •  •  •           •  •        •    • •••  ••      • •     • •    •    •  •       •  •• •    •\n",
      "C|     • •   • • • • ••••• •• •      •  •   •   ••       •       • • •• •   •   • •  • •      •      \n",
      "C|     • •   • • • • ••••• •• •      •  •   •   ••       •       • • •• •   •   • •  • •      •      \n",
      "U| • •    • •   • •             •        ••         •   •     •        •            • •   •       •  \n",
      "C|     • •   • • • • ••••• •• •      •  •   •   ••       •       • • •• •   •   • •  • •      •      \n",
      "A|•   • •  •  •           •  •        •    • •••  ••      • •     • •    •    •  •       •  •• •    •\n",
      "G|  •               •          • ••••  •             •••   • • ••         •• • •   •    •  •    •• • \n",
      "G|  •               •          • ••••  •             •••   • • ••         •• • •   •    •  •    •• • \n",
      "C|     • •   • • • • ••••• •• •      •  •   •   ••       •       • • •• •   •   • •  • •      •      \n",
      "G|  •               •          • ••••  •             •••   • • ••         •• • •   •    •  •    •• • \n",
      "A|•   • •  •  •           •  •        •    • •••  ••      • •     • •    •    •  •       •  •• •    •\n",
      "G|  •               •          • ••••  •             •••   • • ••         •• • •   •    •  •    •• • \n",
      "C|     • •   • • • • ••••• •• •      •  •   •   ••       •       • • •• •   •   • •  • •      •      \n",
      "A|•   • •  •  •           •  •        •    • •••  ••      • •     • •    •    •  •       •  •• •    •\n",
      "C|     • •   • • • • ••••• •• •      •  •   •   ••       •       • • •• •   •   • •  • •      •      \n",
      "G|  •               •          • ••••  •             •••   • • ••         •• • •   •    •  •    •• • \n",
      "U| • •    • •   • •             •        ••         •   •     •        •            • •   •       •  \n",
      "C|     • •   • • • • ••••• •• •      •  •   •   ••       •       • • •• •   •   • •  • •      •      \n",
      "U| • •    • •   • •             •        ••         •   •     •        •            • •   •       •  \n",
      "C|     • •   • • • • ••••• •• •      •  •   •   ••       •       • • •• •   •   • •  • •      •      \n",
      "G|  •               •          • ••••  •             •••   • • ••         •• • •   •    •  •    •• • \n",
      "A|•   • •  •  •           •  •        •    • •••  ••      • •     • •    •    •  •       •  •• •    •\n",
      "U| • •    • •   • •             •        ••         •   •     •        •            • •   •       •  \n",
      "G|  •               •          • ••••  •             •••   • • ••         •• • •   •    •  •    •• • \n",
      "A|•   • •  •  •           •  •        •    • •••  ••      • •     • •    •    •  •       •  •• •    •\n",
      "A|•   • •  •  •           •  •        •    • •••  ••      • •     • •    •    •  •       •  •• •    •\n",
      "C|     • •   • • • • ••••• •• •      •  •   •   ••       •       • • •• •   •   • •  • •      •      \n",
      "A|•   • •  •  •           •  •        •    • •••  ••      • •     • •    •    •  •       •  •• •    •\n",
      "G|  •               •          • ••••  •             •••   • • ••         •• • •   •    •  •    •• • \n",
      "G|  •               •          • ••••  •             •••   • • ••         •• • •   •    •  •    •• • \n",
      "U| • •    • •   • •             •        ••         •   •     •        •            • •   •       •  \n",
      "G|  •               •          • ••••  •             •••   • • ••         •• • •   •    •  •    •• • \n",
      "A|•   • •  •  •           •  •        •    • •••  ••      • •     • •    •    •  •       •  •• •    •\n"
     ]
    }
   ],
   "source": [
    "def delta(x,y):\n",
    "    return 0 if x == y else 1\n",
    "\n",
    "def M(seq1,seq2,i,j,k):\n",
    "    return sum(delta(x,y) for x,y in zip(seq1[i:i+k],seq2[j:j+k]))\n",
    "\n",
    "def makeMatrix(seq1,seq2,k):\n",
    "    n = len(seq1)\n",
    "    m = len(seq2)\n",
    "    return [[M(seq1,seq2,i,j,k) for j in range(m-k+1)] for i in range(n-k+1)]\n",
    "\n",
    "def plotMatrix(M,t, seq1, seq2, nonblank = u'\\u2022', blank = ' '):\n",
    "    print(' |' + seq2)\n",
    "    print('-'*(2 + len(seq2)))\n",
    "    for label,row in zip(seq1,M):\n",
    "        line = ''.join(nonblank if s < t else blank for s in row)\n",
    "        print(label + '|' + line)\n",
    "        \n",
    "def dotplot(seq1,seq2,k = 1,t = 1):\n",
    "    M = makeMatrix(seq1,seq2,k)\n",
    "    plotMatrix(M, t, seq1,seq2)\n",
    "    \n",
    "seqx = \"ACCTGAGCTCACCTGAGTTA\"\n",
    "seqy = \"ACCTGAGCTCACCTGAGTTA\"\n",
    "import matplotlib.pyplot as plt\n",
    "dotplot(rna1,rna1)"
   ]
  },
  {
   "cell_type": "code",
   "execution_count": 44,
   "metadata": {
    "collapsed": true
   },
   "outputs": [],
   "source": [
    "from ipywidgets import interact\n",
    "from IPython.display import HTML, display"
   ]
  },
  {
   "cell_type": "code",
   "execution_count": null,
   "metadata": {
    "collapsed": true
   },
   "outputs": [],
   "source": [
    "from ipywidgets import interact\n",
    "from IPython.display import HTML, display\n",
    "@interact(sequence=sequences,kmer=\"\" \n",
    ")\n",
    "def kmer_present(sequence=\"\", kmer = \"CCGATTCG\"):\n",
    "    \"\"\"This is an example of defining a function with keyword arguments:\n",
    "    \n",
    "    sequence and kmer are variables in the function kmer_present. \n",
    "    \n",
    "    These variables have DEFAULT VALUES (\"\" and \"CCGATTCG\" respectively) that will be used if no values are provided\n",
    "    explicitly.\n",
    "    \"\"\"\n",
    "    \n",
    "    # Here we are going to create a string with HTML markup. We will use the string format() method to insert\n",
    "    # our values into the string.\n",
    "    \n",
    "    # create a variable to store the length of the sequence\n",
    "\n",
    "    seq_length = len(sequence) # replace this with actual value\n",
    "    \n",
    "    # create a variable to store the answer of whether the kmer is in the sequence\n",
    "    s = '<h3>KMER Values:</h3><table>\\n'\n",
    "    s += '<tr><td>{0}</td><td>{1}</td></tr>\\n'.format(\"sequence length\",seq_length)\n",
    "    try:\n",
    "        kmercount=kmer_count(sequence, kmer)\n",
    "        if kmercount == 0:\n",
    "            high_sequence = sequence\n",
    "        else:\n",
    "            high_sequence = sequence.replace(kmer,'<font color=\"green\">%s</font>'%kmer)\n",
    "        \n",
    "        s+= '<tr><td>{0}</td><td>{1}</td></tr>\\n'.format(\"kmer: \"+kmer.upper(),kmercount)\n",
    "    except ValueError:\n",
    "        s+= '<tr><td>{0}</td><td>{1}</td></tr>\\n'.format(\"kmer: \"+kmer.upper(),\"Not a valid kmer\")\n",
    "        high_sequence = sequence\n",
    "    s += '<tr><td>{0}</td><td>{1}</td></tr>'.format(\"sequence \", high_sequence)    \n",
    "    s += '</table>'\n",
    "\n",
    "    display(HTML(s))"
   ]
  }
 ],
 "metadata": {
  "kernelspec": {
   "display_name": "Python 3",
   "language": "python",
   "name": "python3"
  },
  "language_info": {
   "codemirror_mode": {
    "name": "ipython",
    "version": 3
   },
   "file_extension": ".py",
   "mimetype": "text/x-python",
   "name": "python",
   "nbconvert_exporter": "python",
   "pygments_lexer": "ipython3",
   "version": "3.5.2"
  }
 },
 "nbformat": 4,
 "nbformat_minor": 2
}
