{
 "cells": [
  {
   "cell_type": "code",
   "execution_count": 1,
   "metadata": {
    "collapsed": true
   },
   "outputs": [],
   "source": [
    "import random\n",
    "from DNA import *"
   ]
  },
  {
   "cell_type": "code",
   "execution_count": 2,
   "metadata": {},
   "outputs": [
    {
     "data": {
      "text/plain": [
       "['__add__',\n",
       " '__class__',\n",
       " '__contains__',\n",
       " '__delattr__',\n",
       " '__dict__',\n",
       " '__dir__',\n",
       " '__doc__',\n",
       " '__eq__',\n",
       " '__format__',\n",
       " '__ge__',\n",
       " '__getattribute__',\n",
       " '__getitem__',\n",
       " '__getnewargs__',\n",
       " '__gt__',\n",
       " '__hash__',\n",
       " '__init__',\n",
       " '__iter__',\n",
       " '__le__',\n",
       " '__len__',\n",
       " '__lt__',\n",
       " '__mod__',\n",
       " '__module__',\n",
       " '__mul__',\n",
       " '__ne__',\n",
       " '__new__',\n",
       " '__reduce__',\n",
       " '__reduce_ex__',\n",
       " '__repr__',\n",
       " '__rmod__',\n",
       " '__rmul__',\n",
       " '__setattr__',\n",
       " '__sizeof__',\n",
       " '__str__',\n",
       " '__subclasshook__',\n",
       " '__weakref__',\n",
       " 'basecomplement',\n",
       " 'capitalize',\n",
       " 'casefold',\n",
       " 'center',\n",
       " 'codons',\n",
       " 'complement',\n",
       " 'count',\n",
       " 'dna_codon_table',\n",
       " 'encode',\n",
       " 'endswith',\n",
       " 'expandtabs',\n",
       " 'find',\n",
       " 'format',\n",
       " 'format_map',\n",
       " 'gc_content',\n",
       " 'index',\n",
       " 'isalnum',\n",
       " 'isalpha',\n",
       " 'isdecimal',\n",
       " 'isdigit',\n",
       " 'isidentifier',\n",
       " 'islower',\n",
       " 'isnumeric',\n",
       " 'isprintable',\n",
       " 'isspace',\n",
       " 'istitle',\n",
       " 'isupper',\n",
       " 'join',\n",
       " 'ljust',\n",
       " 'lower',\n",
       " 'lstrip',\n",
       " 'maketrans',\n",
       " 'partition',\n",
       " 'replace',\n",
       " 'reverse',\n",
       " 'rfind',\n",
       " 'rindex',\n",
       " 'rjust',\n",
       " 'rpartition',\n",
       " 'rsplit',\n",
       " 'rstrip',\n",
       " 'six_frames',\n",
       " 'split',\n",
       " 'splitlines',\n",
       " 'startswith',\n",
       " 'strip',\n",
       " 'swapcase',\n",
       " 'title',\n",
       " 'transcribe',\n",
       " 'translate',\n",
       " 'upper',\n",
       " 'zfill']"
      ]
     },
     "execution_count": 2,
     "metadata": {},
     "output_type": "execute_result"
    }
   ],
   "source": [
    "dir(DNA)"
   ]
  },
  {
   "cell_type": "code",
   "execution_count": 3,
   "metadata": {},
   "outputs": [
    {
     "data": {
      "text/plain": [
       "'TAAAGGGGCAACCTGAAGGCTACTGTACGTTTGCTGCCGCGATTCCTTAGTTCGTGCGGCAAAATAGCATTGAGCATTGTCAGCGTTGCAGCCATGCGTA'"
      ]
     },
     "execution_count": 3,
     "metadata": {},
     "output_type": "execute_result"
    }
   ],
   "source": [
    "alphabet = list('ATGC')\n",
    "dna = [random.choice(alphabet) for i in range(100)]\n",
    "dna = ''.join(dna)  # join the list elements to a string\n",
    "dna"
   ]
  },
  {
   "cell_type": "code",
   "execution_count": 4,
   "metadata": {
    "collapsed": true
   },
   "outputs": [],
   "source": [
    "rna_alphabet = list('AUGC')"
   ]
  },
  {
   "cell_type": "code",
   "execution_count": 5,
   "metadata": {},
   "outputs": [
    {
     "name": "stdout",
     "output_type": "stream",
     "text": [
      "{'CUA': 'L', 'AGC': 'S', 'AUA': 'I', 'UAA': 'STOP', 'AAA': 'K', 'CGU': 'R', 'CCG': 'P', 'UGG': 'W', 'CGG': 'R', 'ACA': 'T', 'UCG': 'S', 'GUG': 'V', 'AUG': 'M', 'UUU': 'F', 'CUC': 'L', 'CUG': 'L', 'GUC': 'V', 'CAG': 'Q', 'UUA': 'L', 'AGA': 'R', 'GGU': 'G', 'AGU': 'S', 'GGC': 'G', 'CUU': 'L', 'GCG': 'A', 'UUG': 'L', 'CAU': 'H', 'GGA': 'G', 'ACU': 'T', 'GUU': 'V', 'AUU': 'I', 'AGG': 'R', 'AAC': 'N', 'GAU': 'D', 'GCA': 'A', 'GAG': 'E', 'CCU': 'P', 'GAA': 'E', 'CGC': 'R', 'UCC': 'S', 'GCC': 'A', 'GAC': 'D', 'UAU': 'Y', 'UCA': 'S', 'CGA': 'R', 'CAA': 'Q', 'GUA': 'V', 'GCU': 'A', 'UAC': 'Y', 'AUC': 'I', 'UGU': 'C', 'UGA': 'STOP', 'UGC': 'C', 'CCC': 'P', 'CCA': 'P', 'AAU': 'N', 'AAG': 'K', 'UCU': 'S', 'UAG': 'STOP', 'CAC': 'H', 'ACC': 'T', 'ACG': 'T', 'UUC': 'F', 'GGG': 'G'}\n"
     ]
    }
   ],
   "source": [
    "print(rna_codon_table)"
   ]
  },
  {
   "cell_type": "code",
   "execution_count": 7,
   "metadata": {},
   "outputs": [
    {
     "data": {
      "text/plain": [
       "['CUA',\n",
       " 'AGC',\n",
       " 'AUA',\n",
       " 'AAA',\n",
       " 'CGU',\n",
       " 'CCG',\n",
       " 'UGG',\n",
       " 'CGG',\n",
       " 'ACA',\n",
       " 'UCG',\n",
       " 'GUG',\n",
       " 'AUG',\n",
       " 'UUU',\n",
       " 'CUC',\n",
       " 'CUG',\n",
       " 'GUC',\n",
       " 'CAG',\n",
       " 'UUA',\n",
       " 'AGA',\n",
       " 'GGU',\n",
       " 'AGU',\n",
       " 'GGC',\n",
       " 'CUU',\n",
       " 'GCG',\n",
       " 'UUG',\n",
       " 'CAU',\n",
       " 'GGA',\n",
       " 'ACU',\n",
       " 'GUU',\n",
       " 'AUU',\n",
       " 'AGG',\n",
       " 'AAC',\n",
       " 'GAU',\n",
       " 'GCA',\n",
       " 'GAG',\n",
       " 'CCU',\n",
       " 'GAA',\n",
       " 'CGC',\n",
       " 'UCC',\n",
       " 'GCC',\n",
       " 'GAC',\n",
       " 'UAU',\n",
       " 'UCA',\n",
       " 'CGA',\n",
       " 'CAA',\n",
       " 'GUA',\n",
       " 'GCU',\n",
       " 'UAC',\n",
       " 'AUC',\n",
       " 'UGU',\n",
       " 'UGC',\n",
       " 'CCC',\n",
       " 'CCA',\n",
       " 'AAU',\n",
       " 'AAG',\n",
       " 'UCU',\n",
       " 'CAC',\n",
       " 'ACC',\n",
       " 'ACG',\n",
       " 'UUC',\n",
       " 'GGG']"
      ]
     },
     "execution_count": 7,
     "metadata": {},
     "output_type": "execute_result"
    }
   ],
   "source": [
    "rna_codon_list_no_stop = [k for k in rna_codon_table if rna_codon_table[k] != 'STOP']\n",
    "rna_codon_list_no_stop\n"
   ]
  },
  {
   "cell_type": "code",
   "execution_count": 8,
   "metadata": {
    "collapsed": true
   },
   "outputs": [],
   "source": [
    "def random_rna(x):\n",
    "    rna_alphabet = list('AUGC')\n",
    "    rna = [random.choice(rna_codon_list_no_stop) for i in range(int((x-6)/3))]\n",
    "    rna = ''.join(rna)\n",
    "    l = len(rna)\n",
    "    for i in range(3, l, 3):\n",
    "        if rna[i:i+3] == \"UAG\" or rna[i:i+3] == \"UAA\" or rna[i:i+3] == \"UGA\":\n",
    "            rna = rna.replace(rna[i], random.choice(rna_alphabet))\n",
    "    rna = \"AUG\" + rna + \"UGA\"\n",
    "    \n",
    "        \n",
    "    return rna\n"
   ]
  },
  {
   "cell_type": "code",
   "execution_count": 9,
   "metadata": {},
   "outputs": [
    {
     "data": {
      "text/plain": [
       "99"
      ]
     },
     "execution_count": 9,
     "metadata": {},
     "output_type": "execute_result"
    }
   ],
   "source": [
    "rna_string = (random_rna(99))\n",
    "len(rna_string)"
   ]
  },
  {
   "cell_type": "code",
   "execution_count": 10,
   "metadata": {},
   "outputs": [
    {
     "data": {
      "text/plain": [
       "102"
      ]
     },
     "execution_count": 10,
     "metadata": {},
     "output_type": "execute_result"
    }
   ],
   "source": [
    "rna_string2 = random_rna(102)\n",
    "len(rna_string2)"
   ]
  },
  {
   "cell_type": "code",
   "execution_count": 11,
   "metadata": {
    "collapsed": true
   },
   "outputs": [],
   "source": [
    "protein = translate(rna_string)"
   ]
  },
  {
   "cell_type": "code",
   "execution_count": 12,
   "metadata": {},
   "outputs": [
    {
     "data": {
      "text/plain": [
       "['A', 'U', 'G', 'C']"
      ]
     },
     "execution_count": 12,
     "metadata": {},
     "output_type": "execute_result"
    }
   ],
   "source": [
    "list(\"AUGC\")\n"
   ]
  },
  {
   "cell_type": "code",
   "execution_count": 13,
   "metadata": {
    "collapsed": true
   },
   "outputs": [],
   "source": [
    "def snp(sequence):\n",
    "    rna_alphabet = list('AUGC')\n",
    "    l = len(sequence)\n",
    "    i = random.randint(0,l)\n",
    "    mutation = random.choice(rna_alphabet)\n",
    "    while sequence[i] == mutation:\n",
    "        mutation = random.choice(rna_alphabet)\n",
    "    #print(i)\n",
    "    new_seq = sequence[:i] + mutation + sequence[i+1:]\n",
    "    if new_seq[i] == sequence[i]:\n",
    "        snp(new_seq)\n",
    "    return new_seq\n",
    "    "
   ]
  },
  {
   "cell_type": "code",
   "execution_count": 14,
   "metadata": {},
   "outputs": [
    {
     "name": "stdout",
     "output_type": "stream",
     "text": [
      "AUGAUAGCCCGAUUUAAAUUGGAUUUUAGGGACAGCCAAGGCCUUGGCCAAGCGCUGCCGGUGUCGUCUGUCGUUUGCAUCGCCGCACGCUCCUUGUGA\n"
     ]
    },
    {
     "data": {
      "text/plain": [
       "False"
      ]
     },
     "execution_count": 14,
     "metadata": {},
     "output_type": "execute_result"
    }
   ],
   "source": [
    "mutated = snp(rna_string)\n",
    "print(mutated)\n",
    "rna_string\n",
    "rna_string == mutated"
   ]
  },
  {
   "cell_type": "code",
   "execution_count": 15,
   "metadata": {},
   "outputs": [
    {
     "data": {
      "text/plain": [
       "'At position 72, nucleotide U mutated to G'"
      ]
     },
     "execution_count": 15,
     "metadata": {},
     "output_type": "execute_result"
    }
   ],
   "source": [
    "def find_snp(rna, mutated_rna):\n",
    "    result = \"\"\n",
    "    for i in range(0,len(rna)):\n",
    "        if not rna[i] == mutated_rna[i]:\n",
    "            result = (\"At position {}, nucleotide {} mutated to {}\").format(i, rna[i], mutated_rna[i])\n",
    "    if translate(rna) == translate(mutated_rna):\n",
    "        return result + \", silent mutation\"\n",
    "    else:\n",
    "        return result\n",
    "find_snp(rna_string, mutated)    "
   ]
  },
  {
   "cell_type": "code",
   "execution_count": 16,
   "metadata": {},
   "outputs": [
    {
     "data": {
      "text/plain": [
       "True"
      ]
     },
     "execution_count": 16,
     "metadata": {},
     "output_type": "execute_result"
    }
   ],
   "source": [
    "rna_string[12] == mutated[12]"
   ]
  },
  {
   "cell_type": "code",
   "execution_count": 17,
   "metadata": {},
   "outputs": [
    {
     "data": {
      "text/plain": [
       "'MVGLFMLFA'"
      ]
     },
     "execution_count": 17,
     "metadata": {},
     "output_type": "execute_result"
    }
   ],
   "source": [
    "mutated = 'AUGGUAGGUCUCUUUAUGCUAUUCGCUUAAGUUCCUCACGAGGAAAAGAUACCGAGAUUGAGUCACGCUCAGGGGCCCAAGUCGGUACCCAGCGCGUGA'\n",
    "mutated\n",
    "mutated_protein = translate(mutated)\n",
    "mutated_protein"
   ]
  },
  {
   "cell_type": "code",
   "execution_count": 18,
   "metadata": {
    "collapsed": true
   },
   "outputs": [],
   "source": [
    "def find_codon_diff(protein, mutated_protein):\n",
    "    if len(protein) == len(mutated_protein):\n",
    "        for i in range(0,len(protein)):\n",
    "            if not protein[i] == mutated_protein[i]:\n",
    "                return (protein[i], i, mutated_protein[i])\n",
    "    else:\n",
    "        return (protein[len(mutated_protein)+1], len(mutated_protein) + 1, \"STOP\")\n",
    "        \n",
    "            "
   ]
  },
  {
   "cell_type": "code",
   "execution_count": 19,
   "metadata": {},
   "outputs": [
    {
     "data": {
      "text/plain": [
       "('D', 10, 'STOP')"
      ]
     },
     "execution_count": 19,
     "metadata": {},
     "output_type": "execute_result"
    }
   ],
   "source": [
    "find_codon_diff(protein, mutated_protein)"
   ]
  },
  {
   "cell_type": "code",
   "execution_count": 20,
   "metadata": {
    "collapsed": true
   },
   "outputs": [],
   "source": [
    "def insertion(rna):\n",
    "    rna_alphabet = list('AUGC')\n",
    "    l = len(rna)\n",
    "    index = random.randint(0,l)\n",
    "    nuc = random.randint(0,10)\n",
    "    insert = [random.choice(rna_alphabet) for i in range(nuc)]\n",
    "    insert = ''.join(insert)\n",
    "    new_seq = rna[:index] + insert + rna[index:]\n",
    "    return new_seq"
   ]
  },
  {
   "cell_type": "code",
   "execution_count": 21,
   "metadata": {},
   "outputs": [
    {
     "name": "stdout",
     "output_type": "stream",
     "text": [
      "AUGAUAGCCCGAUUUAAAUUGGAUUUUAGGGACAGCCCGCCUUCGAAGGCCUUGGCCAAGCGCUGCCGGUGUCGUCUGUCUUUUGCAUCGCCGCACGCUCCUUGUGA\n"
     ]
    },
    {
     "data": {
      "text/plain": [
       "107"
      ]
     },
     "execution_count": 21,
     "metadata": {},
     "output_type": "execute_result"
    }
   ],
   "source": [
    "rna_insert = insertion(rna_string)\n",
    "print(rna_insert)\n",
    "len(rna_insert)"
   ]
  },
  {
   "cell_type": "code",
   "execution_count": 22,
   "metadata": {},
   "outputs": [
    {
     "data": {
      "text/plain": [
       "35"
      ]
     },
     "execution_count": 22,
     "metadata": {},
     "output_type": "execute_result"
    }
   ],
   "source": [
    "len(translate(rna_insert))"
   ]
  },
  {
   "cell_type": "code",
   "execution_count": 23,
   "metadata": {
    "collapsed": true
   },
   "outputs": [],
   "source": [
    "def find_insertion(rna, inserted_rna):\n",
    "    len_diff = len(inserted_rna) - len(rna)\n",
    "    for i in range(0, len(rna)):\n",
    "        if rna[i] == inserted_rna[i]:\n",
    "            continue\n",
    "        else:\n",
    "            try:\n",
    "                if rna[i] == inserted_rna[i+len_diff] and rna[i:len(rna)] == inserted_rna[i+len_diff:len(inserted_rna)]:\n",
    "                    return (\"At position {}, nucleotide(s) {} were inserted\".format(i, inserted_rna[i:i+len_diff]))\n",
    "                else:\n",
    "                    raise ValueError(\"Too many nucleotides added to RNA\")\n",
    "            except:\n",
    "                raise ValueError(\"Something went wrong\")"
   ]
  },
  {
   "cell_type": "code",
   "execution_count": 24,
   "metadata": {},
   "outputs": [
    {
     "data": {
      "text/plain": [
       "'At position 37, nucleotide(s) CGCCUUCG were inserted'"
      ]
     },
     "execution_count": 24,
     "metadata": {},
     "output_type": "execute_result"
    }
   ],
   "source": [
    "find_insertion(rna_string, rna_insert)"
   ]
  },
  {
   "cell_type": "code",
   "execution_count": 25,
   "metadata": {},
   "outputs": [
    {
     "name": "stdout",
     "output_type": "stream",
     "text": [
      "AUGAUAGCCCGAUUUAAAUUGGAUUUUAGGGACAGCCAAGGCCUUGGCCAAGCGCUGCCGGUGUCGUCUGUCUUUUGCAUCGCCGCACGCUCCUUGUGA\n",
      "AUGAUAGCCCGAUUUAAAUUGGAUUUUAGGGACAGCCCGCCUUCGAAGGCCUUGGCCAAGCGCUGCCGGUGUCGUCUGUCUUUUGCAUCGCCGCACGCUCCUUGUGA\n"
     ]
    }
   ],
   "source": [
    "print(rna_string)\n",
    "print(rna_insert)"
   ]
  },
  {
   "cell_type": "code",
   "execution_count": 26,
   "metadata": {
    "collapsed": true
   },
   "outputs": [],
   "source": [
    "def deletion(rna):\n",
    "    l = len(rna)\n",
    "    index = random.randint(0,l)\n",
    "    nuc = random.randint(0,10)\n",
    "    new_seq = rna[:index] + rna[index+nuc:]\n",
    "    return new_seq"
   ]
  },
  {
   "cell_type": "code",
   "execution_count": 27,
   "metadata": {},
   "outputs": [
    {
     "name": "stdout",
     "output_type": "stream",
     "text": [
      "AUGAUAGCCCGAUUUAAAUUGGAUUUUAGGGACAGCCAAGGCCUUGGCCAAGCGCUGCCGGUGUCGUCUGUCUUUUGCAUCGCCGCACGCUCCUUGUGA\n",
      "AUGAUAGCCCGAUUUAAAUUGGAUUUUAGGGACAGCCAAGGCCUUGGGCUGCCGGUGUCGUCUGUCUUUUGCAUCGCCGCACGCUCCUUGUGA\n"
     ]
    }
   ],
   "source": [
    "rna_deletion = deletion(rna_string)\n",
    "print(rna_string)\n",
    "print(rna_deletion)\n"
   ]
  },
  {
   "cell_type": "code",
   "execution_count": 28,
   "metadata": {
    "collapsed": true
   },
   "outputs": [],
   "source": [
    "def find_deletion(rna, deleted_rna):\n",
    "    len_diff = len(rna) - len(deleted_rna)\n",
    "    for i in range(0, len(rna)):\n",
    "        if rna[i] == deleted_rna[i]:\n",
    "            continue\n",
    "        else:\n",
    "            try:\n",
    "                if deleted_rna[i] == rna[i+len_diff] and rna[i+len_diff:len(rna)] == deleted_rna[i:len(deleted_rna)]:\n",
    "                    return (\"Starting at position {}, nucleotide(s) {} were deleted\".format(i, rna[i:i+len_diff]))\n",
    "                else:\n",
    "                    raise ValueError(\"Too many nucleotides deleted RNA\")\n",
    "            except:\n",
    "                raise ValueError(\"Something went wrong\")"
   ]
  },
  {
   "cell_type": "code",
   "execution_count": 29,
   "metadata": {},
   "outputs": [
    {
     "data": {
      "text/plain": [
       "'Starting at position 47, nucleotide(s) CCAAGC were deleted'"
      ]
     },
     "execution_count": 29,
     "metadata": {},
     "output_type": "execute_result"
    }
   ],
   "source": [
    "find_deletion(rna_string, rna_deletion)"
   ]
  },
  {
   "cell_type": "code",
   "execution_count": 30,
   "metadata": {
    "collapsed": true
   },
   "outputs": [],
   "source": [
    "def mutator(rna):\n",
    "    muta = random.randint(0,2)\n",
    "    if muta == 0:\n",
    "        return snp(rna)\n",
    "    if muta == 1:\n",
    "        return insertion(rna)\n",
    "    if muta == 2:\n",
    "        return deletion(rna)"
   ]
  },
  {
   "cell_type": "code",
   "execution_count": 31,
   "metadata": {
    "collapsed": true
   },
   "outputs": [],
   "source": [
    "mutation_test = mutator(rna_string)"
   ]
  },
  {
   "cell_type": "code",
   "execution_count": 32,
   "metadata": {},
   "outputs": [
    {
     "data": {
      "text/plain": [
       "'AUGAUAGCCCGAUUUAAAUUGGAUUUUAGGGACAGCCAAGGCCUUGGCCAAGCGCUGCCGGUGUCGUCUGUCUUUUGCAUCGCCGCACGCUCCUUGUGA'"
      ]
     },
     "execution_count": 32,
     "metadata": {},
     "output_type": "execute_result"
    }
   ],
   "source": [
    "rna_string"
   ]
  },
  {
   "cell_type": "code",
   "execution_count": 33,
   "metadata": {},
   "outputs": [
    {
     "data": {
      "text/plain": [
       "'AUGAUAGCCCGAUUUAAAUUGGAUUUUAGGGACAGCCAAGGCCUUGGCCAAGCGCUGCCGGUGUCGUCUGUCUUAACCAAGCCUUGCAUCGCCGCACGCUCCUUGUGA'"
      ]
     },
     "execution_count": 33,
     "metadata": {},
     "output_type": "execute_result"
    }
   ],
   "source": [
    "mutation_test"
   ]
  },
  {
   "cell_type": "code",
   "execution_count": 34,
   "metadata": {
    "collapsed": true
   },
   "outputs": [],
   "source": [
    "def find_mutation(rna, mutated_rna):\n",
    "    if len(rna) == len(mutated_rna):\n",
    "        return find_snp(rna, mutated_rna)\n",
    "    if len(rna) > len(mutated_rna):\n",
    "        return find_deletion(rna, mutated_rna)\n",
    "    if len(rna) < len(mutated_rna):\n",
    "        return find_insertion(rna, mutated_rna)"
   ]
  },
  {
   "cell_type": "code",
   "execution_count": 35,
   "metadata": {},
   "outputs": [
    {
     "data": {
      "text/plain": [
       "'At position 74, nucleotide(s) AACCAAGCC were inserted'"
      ]
     },
     "execution_count": 35,
     "metadata": {},
     "output_type": "execute_result"
    }
   ],
   "source": [
    "find_mutation(rna_string, mutation_test)"
   ]
  },
  {
   "cell_type": "code",
   "execution_count": 36,
   "metadata": {
    "collapsed": true
   },
   "outputs": [],
   "source": [
    "import gzip\n",
    "import pickle\n",
    "#with gzip.open(\"pickle_demo.pickle.gz\",\"wb\") as fo:\n",
    " #   pickle.dump((data,{\"a\":1,\"b\":2}),fo)"
   ]
  },
  {
   "cell_type": "code",
   "execution_count": 37,
   "metadata": {
    "collapsed": true
   },
   "outputs": [],
   "source": [
    "def data_gen(number):\n",
    "    \"\"\"\n",
    "    Given an input number, generates an RNA string, mutates the string, and\n",
    "    then pickles the data for later use.\n",
    "    \"\"\"\n",
    "    results = []\n",
    "    for i in range(0, number):\n",
    "        length = random.randint(60,82)\n",
    "        start_rna = random_rna(length)\n",
    "        start_prot = translate(start_rna)\n",
    "        mut_rna = mutator(start_rna)\n",
    "        mut_prot = translate(mut_rna)\n",
    "        result = find_mutation(start_rna, mut_rna)\n",
    "        record = [\"rna\" + str(i), start_rna, start_prot, mut_rna, mut_prot, result]\n",
    "        results.append(record)\n",
    "        with gzip.open(\"rna_mutation_data.pickle.gz\", 'wb') as fo:\n",
    "            pickle.dump(record, fo)\n",
    "    return results\n",
    "            \n",
    "        \n",
    "        "
   ]
  },
  {
   "cell_type": "code",
   "execution_count": 38,
   "metadata": {},
   "outputs": [
    {
     "data": {
      "text/plain": [
       "[['rna0',\n",
       "  'AUGAUAACAACCUCGGACGAAGGACCGCCGAAUGAGUACUCGCGGUGGAUGUCUCUUGCGGCUCAACGCUCUUGA',\n",
       "  'MITTSDEGPPNEYSRWMSLAAQRS',\n",
       "  'AUGAUAUCAACCUCGGACGAAGGACCGCCGAAUGAGUACUCGCGGUGGAUGUCUCUUGCGGCUCAACGCUCUUGA',\n",
       "  'MISTSDEGPPNEYSRWMSLAAQRS',\n",
       "  'At position 6, nucleotide A mutated to U'],\n",
       " ['rna1',\n",
       "  'AUGAGACAGAUGAUGUCCAAGUACUCUGAGGUCCACCUUCUUUUGCCCCACAAGAAGUGA',\n",
       "  'MRQMMSKYSEVHLLLPHKK',\n",
       "  'AUGAGACAGAUGAUGUCCAAGUACUCUGGCGCUUUAGGUCCACCUUCUUUUGCCCCACAAGAAGUGA',\n",
       "  'MRQMMSKYSGALGPPSFAPQEV',\n",
       "  'At position 28, nucleotide(s) GCGCUUU were inserted'],\n",
       " ['rna2',\n",
       "  'AUGUUAUGGAUCUACGGCGGGACCCUAAGUAAUACUCAUAGUCGCGGUAAACAAUGGUGA',\n",
       "  'MLWIYGGTLSNTHSRGKQW',\n",
       "  'AUGUUGGAUCUACGGCGGGACCCUAAGUAAUACUCAUAGUCGCGGUAAACAAUGGUGA',\n",
       "  'MLDLRRDPK',\n",
       "  'Starting at position 5, nucleotide(s) AU were deleted'],\n",
       " ['rna3',\n",
       "  'AUGGGGCCACCCUCUUUAGUGACACAUCCGGGUCAUAGAGCAAUGGUGUUGCUAAGCGACUUAGCGUGA',\n",
       "  'MGPPSLVTHPGHRAMVLLSDLA',\n",
       "  'AUGGGGCCACCCUCUUUAGUGACACAUCCGGGUCAUAGAGCAAUGGUGUUGCUAAGCGACUGAUCGAUAGCGUGA',\n",
       "  'MGPPSLVTHPGHRAMVLLSD',\n",
       "  'At position 61, nucleotide(s) GAUCGA were inserted'],\n",
       " ['rna4',\n",
       "  'AUGAUGGGCAAGAACCUUCGCUCACAUACCAAGAUAACCGGGCCACACUUUCCCAGUACAGGUCUUAUCUGA',\n",
       "  'MMGKNLRSHTKITGPHFPSTGLI',\n",
       "  'AUGAUGGGCAAGAACCUUCGCUCACAUACCAAGAUAACCGGGCCACACGUUUCCCAGUACAGGUCUUAUCUGA',\n",
       "  'MMGKNLRSHTKITGPHVSQYRSYL',\n",
       "  'At position 48, nucleotide(s) G were inserted'],\n",
       " ['rna5',\n",
       "  'AUGAAGUCGCUUCAAUUCCUAAUCCAUCCCACGUCCCCUUAUUCUGGUACUGUCGCAUGA',\n",
       "  'MKSLQFLIHPTSPYSGTVA',\n",
       "  'AUGAAGUCGCUUCAAUUCCUAAUCCAUCCCACGUCCCCUUGGUACUGUCGCAUGA',\n",
       "  'MKSLQFLIHPTSPWYCRM',\n",
       "  'Starting at position 40, nucleotide(s) AUUCU were deleted'],\n",
       " ['rna6',\n",
       "  'AUGGCGAAAGCAUCCCGCCGCUGGGGCAGAAGUGUCAAUCUGUAUGUUUCCAGAUAUGUUCCGCUAUGCGGCUGA',\n",
       "  'MAKASRRWGRSVNLYVSRYVPLCG',\n",
       "  'AUGGCGAAAGCAUCCCGCCGAUGGGGCAGAAGUGUCAAUCUGUAUGUUUCCAGAUAUGUUCCGCUAUGCGGCUGA',\n",
       "  'MAKASRRWGRSVNLYVSRYVPLCG',\n",
       "  'At position 20, nucleotide C mutated to A, silent mutation'],\n",
       " ['rna7',\n",
       "  'AUGAAUAUUCCAUCAGGGACGGCCCACCGGACAGGUUUGCCGCUAAGAGUGUUAACGCUGAGAUCCGGGUGA',\n",
       "  'MNIPSGTAHRTGLPLRVLTLRSG',\n",
       "  'AUGAAUAUUCCAUCAGGGACGGCCCACCGGACAGGUUUGCCGCUAAGAGUGUUAAGAUCCGGGUGA',\n",
       "  'MNIPSGTAHRTGLPLRVLRSG',\n",
       "  'Starting at position 55, nucleotide(s) CGCUGA were deleted'],\n",
       " ['rna8',\n",
       "  'AUGUCAGGGGAGAUGUUUUGCGUCUGCCCAGUCCGUUAUAAAUCUCCUCCGACAUGCUGUCCCGCGGUUAGCCAGGCGUGA',\n",
       "  'MSGEMFCVCPVRYKSPPTCCPAVSQA',\n",
       "  'AUGUCAGGGGAGAUGUUCCAGUCCGUUAUAAAUCUCCUCCGACAUGCUGUCCCGCGGUUAGCCAGGCGUGA',\n",
       "  'MSGEMFQSVINLLRHAVPRLARR',\n",
       "  'Starting at position 17, nucleotide(s) UUGCGUCUGC were deleted'],\n",
       " ['rna9',\n",
       "  'AUGACAUAUCGUAUCGUCGUCCUGCACUGCGUGAUGGGUAGAACGCUGAGACAGGCUGAGAAUCGACGAUUUAACUGA',\n",
       "  'MTYRIVVLHCVMGRTLRQAENRRFN',\n",
       "  'AUGACAUAUCGUAUCGUCGUCCUGCACUGCGAGAUGGGUAGAACGCUGAGACAGGCUGAGAAUCGACGAUUUAACUGA',\n",
       "  'MTYRIVVLHCEMGRTLRQAENRRFN',\n",
       "  'At position 31, nucleotide U mutated to A']]"
      ]
     },
     "execution_count": 38,
     "metadata": {},
     "output_type": "execute_result"
    }
   ],
   "source": [
    "test_data_set = data_gen(10)\n",
    "test_data_set\n"
   ]
  },
  {
   "cell_type": "code",
   "execution_count": 44,
   "metadata": {
    "collapsed": true
   },
   "outputs": [],
   "source": [
    "import pandas as pd\n",
    "pd_df = pd.DataFrame(test_data_set)\n",
    "#print(pd_df)\n",
    "#pd_df2 = pd.read_pickle(\"rna_mutation_data.pickle.gz\")"
   ]
  },
  {
   "cell_type": "code",
   "execution_count": 52,
   "metadata": {
    "collapsed": true
   },
   "outputs": [],
   "source": [
    "objects = []\n",
    "with gzip.open(\"rna_mutation_data.pickle.gz\", \"rb\") as fo:\n",
    "    while True:\n",
    "        try:\n",
    "            objects.append(pickle.load(fo))\n",
    "        except EOFError:\n",
    "            break"
   ]
  },
  {
   "cell_type": "code",
   "execution_count": 53,
   "metadata": {},
   "outputs": [
    {
     "data": {
      "text/plain": [
       "[['rna9',\n",
       "  'AUGACAUAUCGUAUCGUCGUCCUGCACUGCGUGAUGGGUAGAACGCUGAGACAGGCUGAGAAUCGACGAUUUAACUGA',\n",
       "  'MTYRIVVLHCVMGRTLRQAENRRFN',\n",
       "  'AUGACAUAUCGUAUCGUCGUCCUGCACUGCGAGAUGGGUAGAACGCUGAGACAGGCUGAGAAUCGACGAUUUAACUGA',\n",
       "  'MTYRIVVLHCEMGRTLRQAENRRFN',\n",
       "  'At position 31, nucleotide U mutated to A']]"
      ]
     },
     "execution_count": 53,
     "metadata": {},
     "output_type": "execute_result"
    }
   ],
   "source": [
    "objects"
   ]
  },
  {
   "cell_type": "code",
   "execution_count": 49,
   "metadata": {},
   "outputs": [
    {
     "data": {
      "application/vnd.jupyter.widget-view+json": {
       "model_id": "fd5398f1076f49c38dfaf9a9e5812610",
       "version_major": 2,
       "version_minor": 0
      },
      "text/plain": [
       "A Jupyter Widget"
      ]
     },
     "metadata": {},
     "output_type": "display_data"
    }
   ],
   "source": [
    "from ipywidgets import interact\n",
    "from IPython.display import HTML, display\n",
    "@interact(sequence=test_data_set)\n",
    "\n",
    "def find_mutation2():\n",
    "    \"\"\"\n",
    "     \n",
    "    \"\"\"\n",
    "    \n",
    "    # Here we are going to create a string with HTML markup. We will use the string format() method to insert\n",
    "    # our values into the string.\n",
    "    \n",
    "    # create a variable to store the length of the sequence\n",
    "\n",
    "    rna_length = len(test_data_set[1]) # replace this with actual value\n",
    "    \n",
    "    # create a variable to store the answer of whether the kmer is in the sequence\n",
    "    s = '<h3>RNA and Mutation Table:</h3><table>\\n'\n",
    "    s += '<tr><td>{0}</td><td>{1}</td></tr>\\n'.format(\"RNA length\",rna_length)\n",
    "    try:\n",
    "        if len(test_data_set[1]) == len(test_data_set[3]):\n",
    "            if (test_data_set[2]) == (test_data_set[4]):\n",
    "                answer = test_data_set[5]\n",
    "#        if kmercount == 0:\n",
    "#            high_sequence = sequence\n",
    "#        else:\n",
    "#            high_sequence = sequence.replace(kmer,'<font color=\"green\">%s</font>'%kmer)\n",
    "        \n",
    "#        s+= '<tr><td>{0}</td><td>{1}</td></tr>\\n'.format(\"kmer: \"+kmer.upper(),kmercount)\n",
    "    except ValueError:\n",
    "#        s+= '<tr><td>{0}</td><td>{1}</td></tr>\\n'.format(\"kmer: \"+kmer.upper(),\"Not a valid kmer\")\n",
    "        answer = test_data_set[5]\n",
    "    s += '<tr><td>{0}</td><td>{1}</td></tr>'.format(test_data_set[1], answer)    \n",
    "    s += '</table>'\n",
    "\n",
    "    display(HTML(s))"
   ]
  },
  {
   "cell_type": "code",
   "execution_count": null,
   "metadata": {
    "collapsed": true
   },
   "outputs": [],
   "source": []
  },
  {
   "cell_type": "code",
   "execution_count": null,
   "metadata": {
    "collapsed": true
   },
   "outputs": [],
   "source": []
  },
  {
   "cell_type": "code",
   "execution_count": null,
   "metadata": {
    "collapsed": true
   },
   "outputs": [],
   "source": []
  }
 ],
 "metadata": {
  "kernelspec": {
   "display_name": "Python 3",
   "language": "python",
   "name": "python3"
  },
  "language_info": {
   "codemirror_mode": {
    "name": "ipython",
    "version": 3
   },
   "file_extension": ".py",
   "mimetype": "text/x-python",
   "name": "python",
   "nbconvert_exporter": "python",
   "pygments_lexer": "ipython3",
   "version": "3.5.2"
  }
 },
 "nbformat": 4,
 "nbformat_minor": 2
}
